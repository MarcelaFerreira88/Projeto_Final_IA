{
 "cells": [
  {
   "cell_type": "code",
   "execution_count": 14,
   "metadata": {},
   "outputs": [],
   "source": [
    "import pandas as pd\n",
    "\n",
    "saneamento = pd.read_csv(\"municipio_agua_esgoto.csv\")"
   ]
  },
  {
   "cell_type": "code",
   "execution_count": 15,
   "metadata": {},
   "outputs": [
    {
     "name": "stdout",
     "output_type": "stream",
     "text": [
      "Index(['ano', 'id_municipio', 'sigla_uf', 'populacao_atendida_agua',\n",
      "       'populacao_atentida_esgoto', 'populacao_urbana',\n",
      "       'populacao_urbana_residente_agua', 'populacao_urbana_atendida_agua',\n",
      "       'populacao_urbana_atendida_agua_ibge',\n",
      "       'populacao_urbana_residente_esgoto',\n",
      "       ...\n",
      "       'investimento_recurso_oneroso_municipio',\n",
      "       'investimento_recurso_nao_oneroso_municipio',\n",
      "       'investimento_total_municipio', 'investimento_agua_estado',\n",
      "       'investimento_esgoto_estado', 'investimento_outro_estado',\n",
      "       'investimento_recurso_proprio_estado',\n",
      "       'investimento_recurso_oneroso_estado',\n",
      "       'investimento_recurso_nao_oneroso_estado', 'investimento_total_estado'],\n",
      "      dtype='object', length=133)\n"
     ]
    }
   ],
   "source": [
    "print(saneamento.columns)   "
   ]
  },
  {
   "cell_type": "code",
   "execution_count": 18,
   "metadata": {},
   "outputs": [
    {
     "name": "stdout",
     "output_type": "stream",
     "text": [
      "[2018 2021 2017 2020 2019 2015 2013 2016 2012 2014 2009 2011 2010 2007\n",
      " 2008 2003 2006 2005 2002 2004 2001 1995 2000 1998 1999 2022 1996 1997]\n"
     ]
    }
   ],
   "source": [
    "print(saneamento['ano'].unique())"
   ]
  }
 ],
 "metadata": {
  "kernelspec": {
   "display_name": "Python 3",
   "language": "python",
   "name": "python3"
  },
  "language_info": {
   "codemirror_mode": {
    "name": "ipython",
    "version": 3
   },
   "file_extension": ".py",
   "mimetype": "text/x-python",
   "name": "python",
   "nbconvert_exporter": "python",
   "pygments_lexer": "ipython3",
   "version": "3.13.4"
  }
 },
 "nbformat": 4,
 "nbformat_minor": 2
}
